{
 "cells": [
  {
   "cell_type": "code",
   "execution_count": 165,
   "id": "4d1fc562",
   "metadata": {},
   "outputs": [],
   "source": [
    "import matplotlib.pyplot as plt \n",
    "from matplotlib.colors import to_rgba\n",
    "import numpy as np "
   ]
  },
  {
   "cell_type": "code",
   "execution_count": 235,
   "id": "8ff6e257",
   "metadata": {},
   "outputs": [],
   "source": [
    "def random(lo,hi): return np.random.randint(lo,hi)\n",
    "\n",
    "def perturb(arr): \n",
    "    NUM_LEDS=arr.shape[0]\n",
    "    for i in range(NUM_LEDS): \n",
    "        if (i < NUM_LEDS/2 and i > NUM_LEDS/6):\n",
    "            if (not random(0,3)):\n",
    "                arr[i] = random(0,2)\n",
    "            \n",
    "        if (i > NUM_LEDS/3 and i < 2*(NUM_LEDS/3.0)):\n",
    "            if not random(0,4): \n",
    "                arr[i] = random(2,4)\n",
    "            \n",
    "        if (i > 2*(NUM_LEDS/3.0)):\n",
    "            if not random(0,5): \n",
    "                arr[i] = random(2,4)\n",
    "\n",
    "    return arr"
   ]
  },
  {
   "cell_type": "code",
   "execution_count": 245,
   "id": "f86f0f49",
   "metadata": {},
   "outputs": [
    {
     "data": {
      "image/png": "[encoded data removed]",
      "text/plain": [
       "<Figure size 640x480 with 1 Axes>"
      ]
     },
     "metadata": {},
     "output_type": "display_data"
    }
   ],
   "source": [
    "colors = ['dodgerblue', 'darkturquoise', 'yellow', 'gold']\n",
    "\n",
    "defaults = np.concat([\n",
    "    np.random.randint(2,4, size=30), # Yellows\n",
    "    np.random.randint(0,2, size=60)  # Blues \n",
    "])\n",
    "\n",
    "led_colors = perturb(defaults)\n",
    "rgba_colors = np.array([to_rgba(colors[c]) for c in led_colors])\n",
    "\n",
    "# Reshape into 2D grid\n",
    "rgba_grid = rgba_colors.reshape(10, 9, 4)\n",
    "\n",
    "# Display using imshow\n",
    "plt.imshow(rgba_grid, origin='lower')\n",
    "plt.axis('off')\n",
    "plt.show()"
   ]
  }
 ],
 "metadata": {
  "kernelspec": {
   "display_name": "arduino",
   "language": "python",
   "name": "python3"
  },
  "language_info": {
   "codemirror_mode": {
    "name": "ipython",
    "version": 3
   },
   "file_extension": ".py",
   "mimetype": "text/x-python",
   "name": "python",
   "nbconvert_exporter": "python",
   "pygments_lexer": "ipython3",
   "version": "3.13.7"
  }
 },
 "nbformat": 4,
 "nbformat_minor": 5
}
