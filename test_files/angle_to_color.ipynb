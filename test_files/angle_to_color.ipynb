{
 "cells": [
  {
   "cell_type": "code",
   "execution_count": 521,
   "id": "333998af",
   "metadata": {},
   "outputs": [],
   "source": [
    "import numpy as np \n",
    "import matplotlib.pyplot as plt"
   ]
  },
  {
   "cell_type": "code",
   "execution_count": 522,
   "id": "66248cf3",
   "metadata": {},
   "outputs": [],
   "source": [
    "angle,time,time_str = [],[],[]\n",
    "with open('angle_time.csv', 'r') as f:\n",
    "    line = f.readline() \n",
    "    while line: \n",
    "        a,ts = line.split(',')\n",
    "        h,m = ts.split(':')\n",
    "        t = int(h)*60 + int(m)\n",
    "\n",
    "        angle.append(int(a))\n",
    "        time.append(t)\n",
    "        time_str.append(ts)\n",
    "\n",
    "        line = f.readline() \n",
    "\n",
    "angles = np.array(angle)\n",
    "times = np.array(time) \n",
    "times = times - times.min()\n",
    "times = times / times.max()"
   ]
  },
  {
   "cell_type": "code",
   "execution_count": 523,
   "id": "2b7e87b3",
   "metadata": {},
   "outputs": [],
   "source": [
    "END_ASTRO = 102\n",
    "END_SUNRISE = 85\n",
    "NUM_STEPS = (angles >= END_SUNRISE).sum()\n",
    "HUE_CHANGE = 120/255\n",
    "MAX_HUE = (255+40)/255\n",
    "SAT_MIN = 32/255\n",
    "\n",
    "HUE_POLY = 1.5\n",
    "SAT_POLY = 1\n",
    "VAL_POLY = 1/2\n",
    "\n",
    "starting_hues = np.array([170,190,210,220])/255"
   ]
  },
  {
   "cell_type": "code",
   "execution_count": 524,
   "id": "c907461b",
   "metadata": {},
   "outputs": [],
   "source": [
    "import matplotlib.colors as mcolors\n",
    "\n",
    "def draw_rectangle_gradient(ax, x1, y1, width, height, color1, color2, n=100):\n",
    "    # Create an array of the linear gradient between the two colors\n",
    "    gradient_colors = []\n",
    "    for segment in np.linspace(0, width, n):\n",
    "        interp_color = [(1 - segment / width) * color1[j] + (segment / width) * color2[j] for j in range(3)]\n",
    "        if interp_color[0] > 1: \n",
    "            interp_color[0] -= 1\n",
    "\n",
    "        gradient_colors.append(mcolors.hsv_to_rgb(interp_color))\n",
    "    for i, color in enumerate(gradient_colors):\n",
    "        ax.add_patch(plt.Rectangle((x1 + width/n * i, y1), width/n, height, color=color, linewidth=0, zorder=0))\n",
    "    return ax\n",
    "\n",
    "def green_filter(h): \n",
    "    filter_after = 0\n",
    "    for h_ in h: \n",
    "        if h_ > (45+255)/255:\n",
    "            break \n",
    "        filter_after += 1 \n",
    "\n",
    "    h[filter_after:] += 75/255"
   ]
  },
  {
   "cell_type": "code",
   "execution_count": 525,
   "id": "50706385",
   "metadata": {},
   "outputs": [
    {
     "data": {
      "image/png": "[encoded data removed]",
      "text/plain": [
       "<Figure size 640x480 with 1 Axes>"
      ]
     },
     "metadata": {},
     "output_type": "display_data"
    },
    {
     "data": {
      "text/plain": [
       "array([1.        , 0.97698658, 0.95397317, 0.93095975, 0.90794634,\n",
       "       0.88493292, 0.8619195 , 0.83890609, 0.81589267, 0.79287926,\n",
       "       0.76986584, 0.74685243, 0.72383901, 0.70082559, 0.67781218,\n",
       "       0.65479876, 0.63178535, 0.60877193, 0.58575851, 0.5627451 ,\n",
       "       0.53973168, 0.51671827, 0.49370485, 0.47069143, 0.44767802,\n",
       "       0.4246646 , 0.40165119, 0.37863777, 0.35562436, 0.33261094,\n",
       "       0.30959752, 0.28658411, 0.26357069, 0.24055728, 0.21754386,\n",
       "       0.19453044, 0.17151703, 0.14850361, 0.1254902 ])"
      ]
     },
     "execution_count": 525,
     "metadata": {},
     "output_type": "execute_result"
    }
   ],
   "source": [
    "n = len(time_str)\n",
    "hues = np.pow(np.linspace(0,1, NUM_STEPS),HUE_POLY) * HUE_CHANGE\n",
    "sat = -(1-SAT_MIN) * np.pow(np.linspace(0,1, n),SAT_POLY) + 1 \n",
    "val = np.pow(np.linspace(0,1, n), VAL_POLY)\n",
    "\n",
    "ax = plt.axes()\n",
    "for i in range(starting_hues.shape[0]): \n",
    "    h = starting_hues[i]\n",
    "    inc = 0\n",
    "\n",
    "    v_hues = h + hues \n",
    "    green_filter(v_hues)\n",
    "    #v_hues[v_hues > MAX_HUE] = MAX_HUE\n",
    "\n",
    "    for j in range(times.shape[0]-1): \n",
    "        if j < NUM_STEPS-1:\n",
    "            c1 = np.array([v_hues[j],sat[j],val[j]])\n",
    "            c2 = np.array([v_hues[j+1],sat[j+1],val[j+1]])\n",
    "        else: \n",
    "            c1 = np.array([v_hues[-1],sat[j],val[j]])\n",
    "            c2 = np.array([v_hues[-1],sat[j+1],val[j+1]])\n",
    "\n",
    "        draw_rectangle_gradient(ax, times[j], i, times[j+1]-times[j], 0.5, c1, c2, n=1)\n",
    "\n",
    "line1 = times[(angles == END_ASTRO).nonzero()[0]]\n",
    "line2 = times[(angles == END_SUNRISE).nonzero()[0]]\n",
    "plt.plot([line1,line1], [-1,4])\n",
    "plt.plot([line2,line2], [-1,4])\n",
    "\n",
    "ax.set_ylim(-0.5, len(starting_hues))\n",
    "ax.set_xticks(times[::4], time_str[::4])\n",
    "ax_top = ax.secondary_xaxis('top')\n",
    "ax_top.set_xticks(times[::4], angles[::4])\n",
    "plt.show()\n",
    "\n",
    "sat"
   ]
  }
 ],
 "metadata": {
  "kernelspec": {
   "display_name": "arduino",
   "language": "python",
   "name": "python3"
  },
  "language_info": {
   "codemirror_mode": {
    "name": "ipython",
    "version": 3
   },
   "file_extension": ".py",
   "mimetype": "text/x-python",
   "name": "python",
   "nbconvert_exporter": "python",
   "pygments_lexer": "ipython3",
   "version": "3.13.7"
  }
 },
 "nbformat": 4,
 "nbformat_minor": 5
}
