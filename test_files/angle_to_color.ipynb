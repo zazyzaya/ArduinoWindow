{
 "cells": [
  {
   "cell_type": "code",
   "execution_count": 278,
   "id": "333998af",
   "metadata": {},
   "outputs": [],
   "source": [
    "import numpy as np \n",
    "import matplotlib.pyplot as plt"
   ]
  },
  {
   "cell_type": "code",
   "execution_count": 279,
   "id": "66248cf3",
   "metadata": {},
   "outputs": [],
   "source": [
    "angle,time,time_str = [],[],[]\n",
    "with open('angle_time.csv', 'r') as f:\n",
    "    line = f.readline() \n",
    "    while line: \n",
    "        a,ts = line.split(',')\n",
    "        h,m = ts.split(':')\n",
    "        t = int(h)*60 + int(m)\n",
    "\n",
    "        angle.append(float(a))\n",
    "        time.append(t)\n",
    "        time_str.append(ts)\n",
    "\n",
    "        line = f.readline() \n",
    "\n",
    "angles = np.array(angle)\n",
    "times = np.array(time) \n",
    "times = times - times.min()\n",
    "times = times / times.max()"
   ]
  },
  {
   "cell_type": "code",
   "execution_count": 280,
   "id": "2b7e87b3",
   "metadata": {},
   "outputs": [
    {
     "data": {
      "text/plain": [
       "array([1.        , 0.99545455, 0.99090909, 0.98636364, 0.98181818,\n",
       "       0.97727273, 0.97272727, 0.96818182, 0.96363636, 0.95909091,\n",
       "       0.95454545, 0.95      , 0.94545455, 0.94090909, 0.93636364,\n",
       "       0.93181818, 0.92727273, 0.92272727, 0.91818182, 0.91363636,\n",
       "       0.90909091, 0.90454545, 0.9       , 0.89545455, 0.89090909,\n",
       "       0.88636364, 0.88181818, 0.87727273, 0.87272727, 0.86818182,\n",
       "       0.86363636, 0.85909091, 0.85454545, 0.85      , 0.84545455,\n",
       "       0.84090909, 0.83636364, 0.83181818, 0.82727273, 0.82272727,\n",
       "       0.81818182, 0.81363636, 0.80909091, 0.80454545, 0.8       ,\n",
       "       0.79545455, 0.79090909, 0.78636364, 0.78181818, 0.77727273,\n",
       "       0.77272727, 0.76818182, 0.76363636, 0.75909091, 0.75454545,\n",
       "       0.75      , 0.74545455, 0.74090909, 0.73636364, 0.73181818,\n",
       "       0.72727273, 0.72272727, 0.71818182, 0.71363636, 0.70909091,\n",
       "       0.70454545, 0.7       , 0.69545455, 0.69090909, 0.68636364,\n",
       "       0.68181818, 0.67727273, 0.67272727, 0.66818182, 0.66363636,\n",
       "       0.65909091, 0.65454545, 0.65      , 0.64545455, 0.64090909,\n",
       "       0.63636364, 0.63181818, 0.62727273, 0.62272727, 0.61818182,\n",
       "       0.61363636, 0.60909091, 0.60454545, 0.6       , 0.59545455,\n",
       "       0.59090909, 0.58636364, 0.58181818, 0.57727273, 0.57272727,\n",
       "       0.56818182, 0.56363636, 0.55909091, 0.55454545, 0.55      ,\n",
       "       0.54545455, 0.54090909, 0.53636364, 0.53181818, 0.52727273,\n",
       "       0.52272727, 0.51818182, 0.51363636, 0.50909091, 0.50454545,\n",
       "       0.5       , 0.49545455, 0.49090909, 0.48636364, 0.48181818,\n",
       "       0.47727273, 0.47272727, 0.46818182, 0.46363636, 0.45909091,\n",
       "       0.45454545, 0.45      , 0.44545455, 0.44090909, 0.43636364,\n",
       "       0.43181818, 0.42727273, 0.42272727, 0.41818182, 0.41363636,\n",
       "       0.40909091, 0.40454545, 0.4       , 0.39545455, 0.39090909,\n",
       "       0.38636364, 0.38181818, 0.37727273, 0.37272727, 0.36818182,\n",
       "       0.36363636, 0.35909091, 0.35454545, 0.35      , 0.34545455,\n",
       "       0.34090909, 0.33636364, 0.33181818, 0.32727273, 0.32272727,\n",
       "       0.31818182, 0.31363636, 0.30909091, 0.30454545, 0.3       ,\n",
       "       0.29545455, 0.29090909, 0.28636364, 0.28181818, 0.27727273,\n",
       "       0.27272727, 0.26818182, 0.26363636, 0.25909091, 0.25454545,\n",
       "       0.25      , 0.24545455, 0.24090909, 0.23636364, 0.23181818,\n",
       "       0.22727273, 0.22272727, 0.21818182, 0.21363636, 0.20909091,\n",
       "       0.20454545, 0.2       , 0.19545455, 0.19090909, 0.18636364,\n",
       "       0.18181818, 0.17727273, 0.17272727, 0.16818182, 0.16363636,\n",
       "       0.15909091, 0.15454545, 0.15      , 0.14545455, 0.14090909,\n",
       "       0.13636364, 0.13181818, 0.12727273, 0.12272727, 0.11818182,\n",
       "       0.11363636, 0.10909091, 0.10454545, 0.1       , 0.09545455,\n",
       "       0.09090909, 0.08636364, 0.08181818, 0.07727273, 0.07272727,\n",
       "       0.06818182, 0.06363636, 0.05909091, 0.05454545, 0.05      ])"
      ]
     },
     "execution_count": 280,
     "metadata": {},
     "output_type": "execute_result"
    }
   ],
   "source": [
    "NIGHT = 102\n",
    "END_SUNRISE = 94\n",
    "DAY = 80\n",
    "\n",
    "MAX_VAL = 200\n",
    "VAL_MIN = 128\n",
    "SAT_MIN = 96\n",
    "\n",
    "\n",
    "HUE_POLY = 1.5\n",
    "SAT_POLY = 2\n",
    "VAL_POLY = 0.5\n",
    "\n",
    "GREEN_START = (45+255)\n",
    "GREEN_OFFSET = 85\n",
    "\n",
    "STOP_HUE_CHANGE = (NIGHT - END_SUNRISE) / (NIGHT - DAY)\n",
    "\n",
    "# Blue, Purple, Pink, Red\n",
    "starting_hues = np.array([180,200,210,160])\n",
    "# Blue, Pink, Orange, Gold\n",
    "ending_hues = np.array([135, 145, 256+45, 256+40])\n",
    "\n",
    "N_COLORS = starting_hues.shape[0]\n",
    "\n",
    "# Convert from angle to percent\n",
    "percents = (NIGHT-angles) / (NIGHT-DAY)\n",
    "percents[percents < 0] = 0;percents"
   ]
  },
  {
   "cell_type": "code",
   "execution_count": 281,
   "id": "c907461b",
   "metadata": {},
   "outputs": [],
   "source": [
    "import matplotlib.colors as mcolors\n",
    "\n",
    "def draw_rectangle_gradient(ax, x1, y1, width, height, color1, color2, n=100):\n",
    "    # Create an array of the linear gradient between the two colors\n",
    "    gradient_colors = []\n",
    "    for segment in np.linspace(0, width, n):\n",
    "        interp_color = [(1 - segment / width) * color1[j] + (segment / width) * color2[j] for j in range(3)]\n",
    "        if interp_color[0] > 1: \n",
    "            interp_color[0] -= 1\n",
    "\n",
    "        gradient_colors.append(mcolors.hsv_to_rgb(interp_color))\n",
    "    for i, color in enumerate(gradient_colors):\n",
    "        ax.add_patch(plt.Rectangle((x1 + width/n * i, y1), width/n, height, color=color, linewidth=0, zorder=0))\n",
    "    return ax\n",
    "\n",
    "def green_filter(h): \n",
    "    filter_after = 0\n",
    "    for h_ in h: \n",
    "        if h_ > GREEN_START:\n",
    "            break \n",
    "        filter_after += 1 \n",
    "\n",
    "    h[filter_after:] += GREEN_OFFSET"
   ]
  },
  {
   "cell_type": "code",
   "execution_count": 282,
   "id": "adf48ec8",
   "metadata": {},
   "outputs": [],
   "source": [
    "from math import sin\n",
    "H=0; S=1; V=2\n",
    "def update_leds(percent):  \n",
    "    arr = [[0,0,0] for _ in range(N_COLORS)]\n",
    "\n",
    "    s = ((255-SAT_MIN) * (1-pow(percent, SAT_POLY))) + SAT_MIN; \n",
    "    v = (MAX_VAL-VAL_MIN) * pow(percent, VAL_POLY)\n",
    "    v = v+VAL_MIN if (percent != 0) else v\n",
    "    \n",
    "    percent = min(percent, STOP_HUE_CHANGE) / STOP_HUE_CHANGE; \n",
    "    for i in range(N_COLORS): \n",
    "        h = starting_hues[i] \n",
    "        hue_change = ending_hues[i] - starting_hues[i]\n",
    "        #h += (pow(percent, HUE_POLY[i]) * hue_change)\n",
    "        \n",
    "        h += (pow(percent, HUE_POLY) * hue_change)\n",
    "\n",
    "        #if (h > GREEN_START):\n",
    "        #    h += GREEN_OFFSET\n",
    "\n",
    "        arr[i][H] = h; \n",
    "        arr[i][S] = s; \n",
    "        arr[i][V] = 255; \n",
    "\n",
    "    arr = np.array(arr, dtype=np.float16)\n",
    "    arr %= 256 \n",
    "    arr /= 255\n",
    "    return arr\n",
    "\n",
    "def get_val(percent): \n",
    "    v = (MAX_VAL-VAL_MIN) * sin(percent)\n",
    "    v = v+VAL_MIN\n",
    "    return v\n",
    "\n",
    "def get_hue(percent): \n",
    "    percent = min(percent, STOP_HUE_CHANGE) / STOP_HUE_CHANGE; \n",
    "    arr = [0] * N_COLORS\n",
    "    for i in range(N_COLORS): \n",
    "        h = starting_hues[i] \n",
    "        hue_change = ending_hues[i] - starting_hues[i]\n",
    "        #h += (pow(percent, HUE_POLY[i]) * hue_change)\n",
    "        \n",
    "        h = (pow(percent, HUE_POLY) * hue_change)\n",
    "\n",
    "        #if (h > GREEN_START):\n",
    "        #    h += GREEN_OFFSET\n",
    "\n",
    "        arr[i] = h; \n",
    "\n",
    "    arr = np.array(arr, dtype=np.float16)\n",
    "    arr %= 256 \n",
    "    arr /= 255\n",
    "    return arr"
   ]
  },
  {
   "cell_type": "code",
   "execution_count": 283,
   "id": "16868d13",
   "metadata": {},
   "outputs": [
    {
     "data": {
      "image/png": "[encoded data removed]",
      "text/plain": [
       "<Figure size 640x480 with 1 Axes>"
      ]
     },
     "metadata": {},
     "output_type": "display_data"
    }
   ],
   "source": [
    "HUE_POLY = 0.5\n",
    "lines = []\n",
    "for i in range(100,-1,-1): \n",
    "    lines.append(get_hue(i/100))\n",
    "\n",
    "plt.plot(lines, label=[0,1,2,3])\n",
    "plt.legend()\n",
    "plt.show()"
   ]
  },
  {
   "cell_type": "code",
   "execution_count": 284,
   "id": "04c43a2a",
   "metadata": {},
   "outputs": [],
   "source": [
    "HUE_POLY=0.75\n",
    "SAT_POLY=1"
   ]
  },
  {
   "cell_type": "code",
   "execution_count": 285,
   "id": "50706385",
   "metadata": {},
   "outputs": [
    {
     "name": "stdout",
     "output_type": "stream",
     "text": [
      "[135 145  45  40]\n",
      "[135.5  145.6   45.2   40.16]\n",
      "[170.5 188.4 231.4 191.5]\n",
      "[180 200 210 160]\n"
     ]
    },
    {
     "name": "stderr",
     "output_type": "stream",
     "text": [
      "C:\\Users\\The-Jabberwock\\AppData\\Local\\Temp\\ipykernel_39664\\2298301006.py:7: RuntimeWarning: invalid value encountered in scalar divide\n",
      "  interp_color = [(1 - segment / width) * color1[j] + (segment / width) * color2[j] for j in range(3)]\n",
      "c:\\Users\\The-Jabberwock\\anaconda3\\envs\\arduino\\Lib\\site-packages\\matplotlib\\colors.py:3175: RuntimeWarning: invalid value encountered in cast\n",
      "  i = (h * 6.0).astype(int)\n"
     ]
    },
    {
     "data": {
      "image/png": "[encoded data removed]",
      "text/plain": [
       "<Figure size 640x480 with 2 Axes>"
      ]
     },
     "metadata": {},
     "output_type": "display_data"
    }
   ],
   "source": [
    "n = len(time_str)\n",
    "fig, axes = plt.subplots(nrows=2, ncols=1, sharex=True, sharey=False, gridspec_kw={'height_ratios': [3, 1]},)\n",
    "\n",
    "print(ending_hues % 256)\n",
    "ax = axes[0]\n",
    "for i in range(times.shape[0]-1): \n",
    "    c1 = update_leds(percents[i])\n",
    "    c2 = update_leds(percents[i+1])\n",
    "\n",
    "    if i == 0: \n",
    "        print(c1[:,0] * 256)\n",
    "\n",
    "    for j in range(N_COLORS): \n",
    "        draw_rectangle_gradient(ax, times[i], 3-j, times[i+1]-times[i], 0.5, c1[j], c2[j], n=1)\n",
    "\n",
    "vals = [get_val(p) for p in percents[1:]]\n",
    "\n",
    "print(c2[:,0] * 256)\n",
    "print(starting_hues)\n",
    "\n",
    "SKIP = 30\n",
    "ax.set_ylim(-0.5, len(starting_hues))\n",
    "ax.set_xticks(times[1::SKIP], [p for p in angles[1::SKIP]])\n",
    "ax_top = ax.secondary_xaxis('top')\n",
    "ax_top.set_xticks(times[1::SKIP], time_str[1::SKIP])\n",
    "ax_top.set_xlabel(\"Time (On 09/28/25 at my location)\")\n",
    "ax.set_yticks([0.25+i for i in range(4)], [f'LED-{i+1}' for i in range(4)])\n",
    "\n",
    "v_ax = axes[1]\n",
    "v_ax.plot(times[1:], vals)\n",
    "v_ax.set_ylabel('Brightness')\n",
    "v_ax.set_yticks([])\n",
    "v_ax.set_xlabel(\"Sun Angle\")\n",
    "\n",
    "plt.show()"
   ]
  }
 ],
 "metadata": {
  "kernelspec": {
   "display_name": "arduino",
   "language": "python",
   "name": "python3"
  },
  "language_info": {
   "codemirror_mode": {
    "name": "ipython",
    "version": 3
   },
   "file_extension": ".py",
   "mimetype": "text/x-python",
   "name": "python",
   "nbconvert_exporter": "python",
   "pygments_lexer": "ipython3",
   "version": "3.13.7"
  }
 },
 "nbformat": 4,
 "nbformat_minor": 5
}
