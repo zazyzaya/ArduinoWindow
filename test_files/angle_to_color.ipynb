{
 "cells": [
  {
   "cell_type": "code",
   "execution_count": 322,
   "id": "333998af",
   "metadata": {},
   "outputs": [],
   "source": [
    "import numpy as np \n",
    "import matplotlib.pyplot as plt"
   ]
  },
  {
   "cell_type": "code",
   "execution_count": 323,
   "id": "66248cf3",
   "metadata": {},
   "outputs": [],
   "source": [
    "angle,time,time_str = [],[],[]\n",
    "with open('angle_time.csv', 'r') as f:\n",
    "    line = f.readline() \n",
    "    while line: \n",
    "        a,ts = line.split(',')\n",
    "        h,m = ts.split(':')\n",
    "        t = int(h)*60 + int(m)\n",
    "\n",
    "        angle.append(float(a))\n",
    "        time.append(t)\n",
    "        time_str.append(ts)\n",
    "\n",
    "        line = f.readline() \n",
    "\n",
    "angles = np.array(angle)\n",
    "times = np.array(time) \n",
    "times = times - times.min()\n",
    "times = times / times.max()"
   ]
  },
  {
   "cell_type": "code",
   "execution_count": 324,
   "id": "2b7e87b3",
   "metadata": {},
   "outputs": [
    {
     "data": {
      "text/plain": [
       "array([1.     , 0.96875, 0.9375 , 0.90625, 0.875  , 0.84375, 0.8125 ,\n",
       "       0.78125, 0.75   , 0.71875, 0.6875 , 0.65625, 0.625  , 0.59375,\n",
       "       0.5625 , 0.53125, 0.5    , 0.46875, 0.4375 , 0.40625, 0.375  ,\n",
       "       0.34375, 0.3125 , 0.28125, 0.25   , 0.21875, 0.1875 , 0.15625,\n",
       "       0.125  , 0.09375, 0.0625 , 0.03125, 0.     ])"
      ]
     },
     "execution_count": 324,
     "metadata": {},
     "output_type": "execute_result"
    }
   ],
   "source": [
    "NIGHT = 102\n",
    "END_SUNRISE = 87\n",
    "DAY = 70\n",
    "\n",
    "MAX_VAL = 200\n",
    "VAL_MIN = 128\n",
    "SAT_MIN = 96\n",
    "\n",
    "\n",
    "HUE_POLY = 1.5\n",
    "SAT_POLY = 2\n",
    "VAL_POLY = 0.5\n",
    "\n",
    "GREEN_START = (45+255)\n",
    "GREEN_OFFSET = 85\n",
    "\n",
    "STOP_HUE_CHANGE = (NIGHT - END_SUNRISE) / (NIGHT - DAY)\n",
    "\n",
    "# Blue, Purple, Pink, Red\n",
    "starting_hues = np.array([180,200,210,190])\n",
    "# Blue, Pink, Orange, Gold\n",
    "ending_hues = np.array([135, 145, 256+45, 256+40])\n",
    "\n",
    "N_COLORS = starting_hues.shape[0]\n",
    "\n",
    "# Convert from angle to percent\n",
    "percents = (NIGHT-angles) / (NIGHT-DAY)\n",
    "percents[percents < 0] = 0;percents"
   ]
  },
  {
   "cell_type": "code",
   "execution_count": 325,
   "id": "c907461b",
   "metadata": {},
   "outputs": [],
   "source": [
    "import matplotlib.colors as mcolors\n",
    "\n",
    "def draw_rectangle_gradient(ax, x1, y1, width, height, color1, color2, n=100):\n",
    "    # Create an array of the linear gradient between the two colors\n",
    "    gradient_colors = []\n",
    "    for segment in np.linspace(0, width, n):\n",
    "        interp_color = [(1 - segment / width) * color1[j] + (segment / width) * color2[j] for j in range(3)]\n",
    "        if interp_color[0] > 1: \n",
    "            interp_color[0] -= 1\n",
    "\n",
    "        gradient_colors.append(mcolors.hsv_to_rgb(interp_color))\n",
    "    for i, color in enumerate(gradient_colors):\n",
    "        ax.add_patch(plt.Rectangle((x1 + width/n * i, y1), width/n, height, color=color, linewidth=0, zorder=0))\n",
    "    return ax\n",
    "\n",
    "def green_filter(h): \n",
    "    filter_after = 0\n",
    "    for h_ in h: \n",
    "        if h_ > GREEN_START:\n",
    "            break \n",
    "        filter_after += 1 \n",
    "\n",
    "    h[filter_after:] += GREEN_OFFSET"
   ]
  },
  {
   "cell_type": "code",
   "execution_count": 326,
   "id": "adf48ec8",
   "metadata": {},
   "outputs": [],
   "source": [
    "from math import sin\n",
    "H=0; S=1; V=2\n",
    "def update_leds(percent):  \n",
    "    arr = [[0,0,0] for _ in range(N_COLORS)]\n",
    "\n",
    "    s = ((255-SAT_MIN) * (1-pow(percent, SAT_POLY))) + SAT_MIN; \n",
    "    v = (MAX_VAL-VAL_MIN) * pow(percent, VAL_POLY)\n",
    "    v = v+VAL_MIN if (percent != 0) else v\n",
    "    \n",
    "    percent = min(percent, STOP_HUE_CHANGE) / STOP_HUE_CHANGE; \n",
    "    for i in range(N_COLORS): \n",
    "        h = starting_hues[i] \n",
    "        hue_change = (ending_hues[i] - starting_hues[i]) \n",
    "        h += (pow(percent, HUE_POLY[i]) * hue_change)\n",
    "        #h += (pow(percent, HUE_POLY) * HUE_CHANGE)\n",
    "\n",
    "        #if (h > GREEN_START):\n",
    "        #    h += GREEN_OFFSET\n",
    "\n",
    "        arr[i][H] = h; \n",
    "        arr[i][S] = s; \n",
    "        arr[i][V] = 255; \n",
    "\n",
    "    arr = np.array(arr, dtype=np.float16)\n",
    "    arr %= 256 \n",
    "    arr /= 255\n",
    "    return arr\n",
    "\n",
    "def get_val(percent): \n",
    "    v = (MAX_VAL-VAL_MIN) * sin(percent)\n",
    "    v = v+VAL_MIN\n",
    "    return v"
   ]
  },
  {
   "cell_type": "code",
   "execution_count": 327,
   "id": "e756e986",
   "metadata": {},
   "outputs": [],
   "source": [
    "HUE_POLY = [1.5,1.5,4,1.5]"
   ]
  },
  {
   "cell_type": "code",
   "execution_count": 328,
   "id": "50706385",
   "metadata": {},
   "outputs": [
    {
     "name": "stdout",
     "output_type": "stream",
     "text": [
      "[135 145  45  40]\n",
      "[135.5  145.6   45.2   40.16]\n",
      "[180.8 200.8 210.9 190.8]\n",
      "[180 200 210 190]\n"
     ]
    },
    {
     "data": {
      "image/png": "[encoded data removed]",
      "text/plain": [
       "<Figure size 640x480 with 2 Axes>"
      ]
     },
     "metadata": {},
     "output_type": "display_data"
    }
   ],
   "source": [
    "n = len(time_str)\n",
    "fig, axes = plt.subplots(nrows=2, ncols=1, sharex=True, sharey=False, gridspec_kw={'height_ratios': [3, 1]},)\n",
    "\n",
    "print(ending_hues % 256)\n",
    "ax = axes[0]\n",
    "for i in range(times.shape[0]-1): \n",
    "    c1 = update_leds(percents[i])\n",
    "    c2 = update_leds(percents[i+1])\n",
    "\n",
    "    if i == 0: \n",
    "        print(c1[:,0] * 256)\n",
    "\n",
    "    for j in range(N_COLORS): \n",
    "        draw_rectangle_gradient(ax, times[i], 3-j, times[i+1]-times[i], 0.5, c1[j], c2[j], n=1)\n",
    "\n",
    "vals = [get_val(p) for p in percents[1:]]\n",
    "\n",
    "print(c2[:,0] * 256)\n",
    "print(starting_hues)\n",
    "\n",
    "ax.set_ylim(-0.5, len(starting_hues))\n",
    "ax.set_xticks(times[1::3], [f'{p/STOP_HUE_CHANGE:0.2f}' for p in percents[1::3]])\n",
    "ax_top = ax.secondary_xaxis('top')\n",
    "ax_top.set_xticks(times[1::4], time_str[1::4])\n",
    "ax_top.set_xlabel(\"Sun Angle\")\n",
    "ax.set_yticks([0.25+i for i in range(4)], [f'LED-{i+1}' for i in range(4)])\n",
    "\n",
    "v_ax = axes[1]\n",
    "v_ax.plot(times[1:], vals)\n",
    "v_ax.set_ylabel('Brightness')\n",
    "v_ax.set_yticks([])\n",
    "v_ax.set_xlabel(\"Time (On 09/28/25 at my location)\")\n",
    "\n",
    "plt.show()"
   ]
  }
 ],
 "metadata": {
  "kernelspec": {
   "display_name": "arduino",
   "language": "python",
   "name": "python3"
  },
  "language_info": {
   "codemirror_mode": {
    "name": "ipython",
    "version": 3
   },
   "file_extension": ".py",
   "mimetype": "text/x-python",
   "name": "python",
   "nbconvert_exporter": "python",
   "pygments_lexer": "ipython3",
   "version": "3.13.7"
  }
 },
 "nbformat": 4,
 "nbformat_minor": 5
}
