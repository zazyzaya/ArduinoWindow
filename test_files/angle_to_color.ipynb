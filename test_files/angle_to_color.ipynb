{
 "cells": [
  {
   "cell_type": "code",
   "execution_count": 22,
   "id": "333998af",
   "metadata": {},
   "outputs": [],
   "source": [
    "import numpy as np \n",
    "import matplotlib.pyplot as plt"
   ]
  },
  {
   "cell_type": "code",
   "execution_count": 23,
   "id": "66248cf3",
   "metadata": {},
   "outputs": [],
   "source": [
    "angle,time,time_str = [],[],[]\n",
    "with open('angle_time.csv', 'r') as f:\n",
    "    line = f.readline() \n",
    "    while line: \n",
    "        a,ts = line.split(',')\n",
    "        h,m = ts.split(':')\n",
    "        t = int(h)*60 + int(m)\n",
    "\n",
    "        angle.append(int(a))\n",
    "        time.append(t)\n",
    "        time_str.append(ts)\n",
    "\n",
    "        line = f.readline() \n",
    "\n",
    "angles = np.array(angle)\n",
    "times = np.array(time) \n",
    "times = times - times.min()\n",
    "times = times / times.max()"
   ]
  },
  {
   "cell_type": "code",
   "execution_count": 24,
   "id": "2b7e87b3",
   "metadata": {},
   "outputs": [],
   "source": [
    "NIGHT = 102\n",
    "END_SUNRISE = 85\n",
    "DAY = 70\n",
    "\n",
    "MAX_VAL = 200\n",
    "VAL_MIN = 128\n",
    "SAT_MIN = 32\n",
    "\n",
    "\n",
    "HUE_POLY = 1.5\n",
    "SAT_POLY = 2\n",
    "VAL_POLY = 0.5\n",
    "\n",
    "GREEN_START = (45+255)\n",
    "GREEN_OFFSET = 85\n",
    "\n",
    "STOP_HUE_CHANGE = (NIGHT - END_SUNRISE) / (NIGHT - DAY)\n",
    "\n",
    "# Blue, Purple, Pink, Red\n",
    "starting_hues = np.array([180,200,225,190])\n",
    "# Blue, Pink, Orange, Gold\n",
    "ending_hues = np.array([135, 145, 255+45, 255+40])\n",
    "\n",
    "N_COLORS = starting_hues.shape[0]\n",
    "\n",
    "# Convert from angle to percent\n",
    "percents = (NIGHT-angles) / (NIGHT-DAY)\n",
    "percents[percents < 0] = 0"
   ]
  },
  {
   "cell_type": "code",
   "execution_count": 25,
   "id": "c907461b",
   "metadata": {},
   "outputs": [],
   "source": [
    "import matplotlib.colors as mcolors\n",
    "\n",
    "def draw_rectangle_gradient(ax, x1, y1, width, height, color1, color2, n=100):\n",
    "    # Create an array of the linear gradient between the two colors\n",
    "    gradient_colors = []\n",
    "    for segment in np.linspace(0, width, n):\n",
    "        interp_color = [(1 - segment / width) * color1[j] + (segment / width) * color2[j] for j in range(3)]\n",
    "        if interp_color[0] > 1: \n",
    "            interp_color[0] -= 1\n",
    "\n",
    "        gradient_colors.append(mcolors.hsv_to_rgb(interp_color))\n",
    "    for i, color in enumerate(gradient_colors):\n",
    "        ax.add_patch(plt.Rectangle((x1 + width/n * i, y1), width/n, height, color=color, linewidth=0, zorder=0))\n",
    "    return ax\n",
    "\n",
    "def green_filter(h): \n",
    "    filter_after = 0\n",
    "    for h_ in h: \n",
    "        if h_ > GREEN_START:\n",
    "            break \n",
    "        filter_after += 1 \n",
    "\n",
    "    h[filter_after:] += GREEN_OFFSET"
   ]
  },
  {
   "cell_type": "code",
   "execution_count": 26,
   "id": "adf48ec8",
   "metadata": {},
   "outputs": [],
   "source": [
    "H=0; S=1; V=2\n",
    "def update_leds(percent):  \n",
    "    arr = [[0,0,0] for _ in range(N_COLORS)]\n",
    "\n",
    "    s = ((255-SAT_MIN) * (1-pow(percent, SAT_POLY))) + SAT_MIN; \n",
    "    v = (MAX_VAL-VAL_MIN) * pow(percent, VAL_POLY)\n",
    "    v = v+VAL_MIN if (percent != 0) else v\n",
    "    \n",
    "    percent = min(percent, STOP_HUE_CHANGE) / STOP_HUE_CHANGE; \n",
    "    for i in range(N_COLORS): \n",
    "        h = starting_hues[i] \n",
    "        #offset = GREEN_OFFSET if ending_hues[i] > GREEN_START else 0\n",
    "        hue_change = (ending_hues[i] - starting_hues[i]) \n",
    "        h += (pow(percent, HUE_POLY) * hue_change)\n",
    "        #h += (pow(percent, HUE_POLY) * HUE_CHANGE)\n",
    "\n",
    "        #if (h > GREEN_START):\n",
    "        #    h += GREEN_OFFSET\n",
    "\n",
    "        arr[i][H] = h; \n",
    "        arr[i][S] = s; \n",
    "        arr[i][V] = 255; \n",
    "\n",
    "    arr = np.array(arr, dtype=np.float16)\n",
    "    arr %= 256 \n",
    "    arr /= 255\n",
    "    return arr\n",
    "\n",
    "def get_val(percent): \n",
    "    v = (MAX_VAL-VAL_MIN) * pow(percent, VAL_POLY)\n",
    "    v = v+VAL_MIN if (percent != 0) else v\n",
    "    return v"
   ]
  },
  {
   "cell_type": "code",
   "execution_count": 36,
   "id": "50706385",
   "metadata": {},
   "outputs": [
    {
     "name": "stdout",
     "output_type": "stream",
     "text": [
      "[[135.5   32.12 256.  ]\n",
      " [145.6   32.12 256.  ]\n",
      " [ 44.2   32.12 256.  ]\n",
      " [ 39.16  32.12 256.  ]]\n"
     ]
    },
    {
     "data": {
      "image/png": "[encoded data removed]",
      "text/plain": [
       "<Figure size 640x480 with 2 Axes>"
      ]
     },
     "metadata": {},
     "output_type": "display_data"
    }
   ],
   "source": [
    "n = len(time_str)\n",
    "fig, axes = plt.subplots(nrows=2, ncols=1, sharex=True, sharey=False, gridspec_kw={'height_ratios': [3, 1]},)\n",
    "\n",
    "ax = axes[0]\n",
    "for i in range(1,times.shape[0]-1): \n",
    "    c1 = update_leds(percents[i])\n",
    "    c2 = update_leds(percents[i+1])\n",
    "\n",
    "    if i == 0: \n",
    "        print(c1 * 256)\n",
    "\n",
    "    for j in range(N_COLORS): \n",
    "        draw_rectangle_gradient(ax, times[i], 3-j, times[i+1]-times[i], 0.5, c1[j], c2[j], n=1)\n",
    "\n",
    "vals = [get_val(p) for p in percents[1:]]\n",
    "\n",
    "print(c2 * 256)\n",
    "\n",
    "ax.set_ylim(-0.5, len(starting_hues))\n",
    "ax.set_xticks(times[1::4], time_str[1::4])\n",
    "ax_top = ax.secondary_xaxis('top')\n",
    "ax_top.set_xticks(times[1::4], angles[1::4])\n",
    "ax_top.set_xlabel(\"Sun Angle\")\n",
    "ax.set_yticks([0.25+i for i in range(4)], [f'LED-{i+1}' for i in range(4)])\n",
    "\n",
    "v_ax = axes[1]\n",
    "v_ax.plot(times[1:], vals)\n",
    "v_ax.set_ylabel('Brightness')\n",
    "v_ax.set_yticks([])\n",
    "v_ax.set_xlabel(\"Time (On 09/28/25 at my location)\")\n",
    "\n",
    "plt.show()"
   ]
  }
 ],
 "metadata": {
  "kernelspec": {
   "display_name": "arduino",
   "language": "python",
   "name": "python3"
  },
  "language_info": {
   "codemirror_mode": {
    "name": "ipython",
    "version": 3
   },
   "file_extension": ".py",
   "mimetype": "text/x-python",
   "name": "python",
   "nbconvert_exporter": "python",
   "pygments_lexer": "ipython3",
   "version": "3.13.7"
  }
 },
 "nbformat": 4,
 "nbformat_minor": 5
}
